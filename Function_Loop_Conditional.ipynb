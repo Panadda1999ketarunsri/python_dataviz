{
 "cells": [
  {
   "cell_type": "markdown",
   "metadata": {},
   "source": [
    "# Function   \n",
    "### ประกอบด้วย 2 อย่าง\n",
    "## function template (การทำให้เราไม่ต้องรันคำสั่งบ่อยๆ)\n",
    "## function with defaul argument (ฟังก์ชันที่มี่ input เป็นdefault ค่าที่กำหนดไว้)\n",
    "### print ชื่อ XXX นามสกุล YYY รหัส ZZZ\n",
    "### print เกรด วิชา Stat 1 >>> AAA\n"
   ]
  },
  {
   "cell_type": "code",
   "execution_count": 9,
   "metadata": {},
   "outputs": [
    {
     "name": "stdout",
     "output_type": "stream",
     "text": [
      "ชื่อ ปนัดดา นามสกุล เกษอรุณศรี รหัส 603021870-6\n"
     ]
    }
   ],
   "source": [
    "a = 'ชื่อ ปนัดดา นามสกุล เกษอรุณศรี รหัส 603021870-6'\n",
    "print(a)"
   ]
  },
  {
   "cell_type": "code",
   "execution_count": 12,
   "metadata": {},
   "outputs": [
    {
     "name": "stdout",
     "output_type": "stream",
     "text": [
      "ชื่อ ปนัดดา นามสกุล เกษอรุณศรี รหัส 603021870-6\n"
     ]
    }
   ],
   "source": [
    "name = 'ปนัดดา'\n",
    "surname ='เกษอรุณศรี'\n",
    "ID = '603021870-6'\n",
    "\n",
    "b= f'ชื่อ {name} นามสกุล {surname} รหัส {ID}'\n",
    "print(b)"
   ]
  },
  {
   "cell_type": "markdown",
   "metadata": {},
   "source": [
    "## > function template (การทำให้เราไม่ต้องรันคำสั่งบ่อยๆ)\n",
    "```python\n",
    "def function_name(input):     หน้าตาของฟังก์ชัน\n",
    "    do_something\n",
    "    return output\n",
    "```\n",
    "### มี 2 แบบ"
   ]
  },
  {
   "cell_type": "markdown",
   "metadata": {},
   "source": [
    "##  1.nalmal function สำหรับบรรทัดเดียว"
   ]
  },
  {
   "cell_type": "code",
   "execution_count": 2,
   "metadata": {},
   "outputs": [],
   "source": [
    "def print_line1(name1,surname1,ID1):                     \n",
    "    st = f'ชื่อ {name1} นามสกุล {surname1} รหัส {ID1}'\n",
    "    return st   # return คือ หลุดออกจาก function แล้ว return ตัวนั้นออกมา ถ้า return เสร็จ คือเสร็จ"
   ]
  },
  {
   "cell_type": "code",
   "execution_count": 3,
   "metadata": {},
   "outputs": [
    {
     "name": "stdout",
     "output_type": "stream",
     "text": [
      "ชื่อ กาญจนา นามสกุล ประสาคุณ รหัส 603021855-2\n"
     ]
    }
   ],
   "source": [
    "print(print_line1('กาญจนา','ประสาคุณ','603021855-2'))   # print(ชื่อฟังก์ชัน(input เป็น string ก็ได้ หรือ ตัวเลขก็ได้))"
   ]
  },
  {
   "cell_type": "markdown",
   "metadata": {},
   "source": [
    "## 2.สำหรับปริ้นส์2บรรทัด "
   ]
  },
  {
   "cell_type": "code",
   "execution_count": 5,
   "metadata": {},
   "outputs": [],
   "source": [
    "def print_2lines(name1,surname1,ID1,grade):\n",
    "    st = f'ชื่อ {name1} นามสกุล {surname1} รหัส {ID1}'\n",
    "    print (st)\n",
    "    st2 = f'เกรดวิชา stat1 >>> {grade}'   # เพิ่ม grade เข้ามา เมื่อต้องการเพิ่มให้มัน print ออกมา 2 บรรทัด\n",
    "    print (st2)"
   ]
  },
  {
   "cell_type": "code",
   "execution_count": 6,
   "metadata": {},
   "outputs": [
    {
     "name": "stdout",
     "output_type": "stream",
     "text": [
      "ชื่อ กาญจนา นามสกุล ประสาคุณ รหัส 603021855-2\n",
      "เกรดวิชา stat1 >>> A\n"
     ]
    }
   ],
   "source": [
    "print_2lines('กาญจนา','ประสาคุณ','603021855-2','A') # เวลาเราสั่ง print ให้ใส่ input เข้าไปด้วย"
   ]
  },
  {
   "cell_type": "code",
   "execution_count": 7,
   "metadata": {},
   "outputs": [
    {
     "name": "stdout",
     "output_type": "stream",
     "text": [
      "ชื่อ ปนัดดา นามสกุล เกษอรุณศรี รหัส 603021870-6\n",
      "เกรดวิชา stat1 >>> A\n",
      "ชื่อ ปภัสรา นามสกุล ปัญจารักษ์ รหัส 603021871-4\n",
      "เกรดวิชา stat1 >>> A\n",
      "ชื่อ ขวัญจิรา นามสกุล คำสรดี รหัส 603021106-3\n",
      "เกรดวิชา stat1 >>> A\n",
      "ชื่อ นิธิศ นามสกุล ประวิตรกาญจน์ รหัส 603021869-1\n",
      "เกรดวิชา stat1 >>> A\n"
     ]
    }
   ],
   "source": [
    "print_2lines('ปนัดดา','เกษอรุณศรี','603021870-6','A')   # เราสามารถ print พร้อมกัน หลายตัว ใน เซลล์เดียวได้\n",
    "print_2lines('ปภัสรา','ปัญจารักษ์','603021871-4','A')\n",
    "print_2lines('ขวัญจิรา','คำสรดี','603021106-3','A')\n",
    "print_2lines('นิธิศ','ประวิตรกาญจน์','603021869-1','A')"
   ]
  },
  {
   "cell_type": "code",
   "execution_count": 23,
   "metadata": {},
   "outputs": [],
   "source": [
    "def print_2lines_er(name1,surname1,ID1,grade):\n",
    "    st = f'ชื่อ {name1} นามสกุล {surname1} รหัส {ID1}'\n",
    "    return (st)\n",
    "    st2 = f'เกรดวิชา stat1 >>> {grade}'\n",
    "    print (st2)"
   ]
  },
  {
   "cell_type": "code",
   "execution_count": 24,
   "metadata": {},
   "outputs": [
    {
     "data": {
      "text/plain": [
       "'ชื่อ กาญจนา นามสกุล ประสาคุณ รหัส 603021855-2'"
      ]
     },
     "execution_count": 24,
     "metadata": {},
     "output_type": "execute_result"
    }
   ],
   "source": [
    "print_2lines_er('กาญจนา','ประสาคุณ','603021855-2','A')"
   ]
  },
  {
   "cell_type": "markdown",
   "metadata": {},
   "source": [
    "### function without input  (ฟังก์ชันที่ไม่มี input)"
   ]
  },
  {
   "cell_type": "code",
   "execution_count": 26,
   "metadata": {},
   "outputs": [],
   "source": [
    "def two_x_three():     ## มันไม่สามารถทำเป็นตัวเลขได้ เลยต้องใส่เป็นคำว่า three\n",
    "    x = 2*3\n",
    "    return x"
   ]
  },
  {
   "cell_type": "code",
   "execution_count": 27,
   "metadata": {},
   "outputs": [
    {
     "data": {
      "text/plain": [
       "6"
      ]
     },
     "execution_count": 27,
     "metadata": {},
     "output_type": "execute_result"
    }
   ],
   "source": [
    "two_x_three()"
   ]
  },
  {
   "cell_type": "markdown",
   "metadata": {},
   "source": [
    "\n",
    "## > function with defaul argument (ฟังก์ชันที่มี่ input เป็นdefault ค่าที่กำหนดไว้)\n",
    "#### ใส่ default ไว้เพื่อที่กัน เวลาคนลืมใส่ \n",
    "##### ถ้า เรา set default หรือ ใส่่ค่า default ไว้ ก็ไม่จำเป็นต้องใส่ input  \n",
    "##### ถ้าเราไม่ ใส่default ไว้ ถ้าลืมใส่ค่า ค่ามันก็จะ  error"
   ]
  },
  {
   "cell_type": "code",
   "execution_count": 30,
   "metadata": {},
   "outputs": [],
   "source": [
    "def print_2lines(name1,surname1,ID1,grade = 'F'):    #ถ้าไม่ใส่ค่าให้มัน มันจะรันออกมาเป็น F คือค่าที่กำหนดไว้\n",
    "    st = f'ชื่อ {name1} นามสกุล {surname1} รหัส {ID1}'\n",
    "    print (st)\n",
    "    st2 = f'เกรดวิชา stat1 >>> {grade}'\n",
    "    print (st2)"
   ]
  },
  {
   "cell_type": "code",
   "execution_count": 33,
   "metadata": {},
   "outputs": [
    {
     "name": "stdout",
     "output_type": "stream",
     "text": [
      "ชื่อ กาญจนา นามสกุล ประสาคุณ รหัส 603021855-2\n",
      "เกรดวิชา stat1 >>> F\n"
     ]
    }
   ],
   "source": [
    "print_2lines('กาญจนา','ประสาคุณ','603021855-2')     #ไม่ได้ใส่ค่ามันเลยใส่ให้ ค่า defoult เพื่อป้องกันการ eror\n",
    "                                                    # default คือ ค่าที่เราไม่ได้ไปเปลี่ยนแปลงอะไรมัน"
   ]
  },
  {
   "cell_type": "code",
   "execution_count": 8,
   "metadata": {},
   "outputs": [
    {
     "name": "stdout",
     "output_type": "stream",
     "text": [
      "ชื่อ กาญจนา นามสกุล ประสาคุณ รหัส 603021855-2\n",
      "เกรดวิชา stat1 >>> A+\n"
     ]
    }
   ],
   "source": [
    "print_2lines('กาญจนา','ประสาคุณ','603021855-2','A+') # ใส่ค่าให้ ถ้าใส่ค่าให้ มันก็จะรันตามค่าที่เราใส่ให้ตามปกติ"
   ]
  },
  {
   "cell_type": "code",
   "execution_count": 140,
   "metadata": {},
   "outputs": [
    {
     "name": "stdout",
     "output_type": "stream",
     "text": [
      "ชื่อ ประสาคุณ นามสกุล กาญจนา รหัส 603021855-2\n",
      "เกรดวิชา stat1 >>> F\n"
     ]
    }
   ],
   "source": [
    "print_2lines(surname1 = 'กาญจนา',name1 = 'ประสาคุณ',ID1 = '603021855-2') # ถ้าพิมพ์แบบไม่เรียงก็ไม่เป็นไร"
   ]
  },
  {
   "cell_type": "markdown",
   "metadata": {},
   "source": [
    "## Loop (วนซ้ำ) "
   ]
  },
  {
   "cell_type": "markdown",
   "metadata": {},
   "source": [
    "```python\n",
    "for each_member in listA:     หน้าตาของ Loop\n",
    "    do something\n",
    "```"
   ]
  },
  {
   "cell_type": "code",
   "execution_count": 42,
   "metadata": {},
   "outputs": [
    {
     "name": "stdout",
     "output_type": "stream",
     "text": [
      "1\n",
      "2\n",
      "3\n"
     ]
    }
   ],
   "source": [
    "for i in [1,2,3]: # เอาสมาชิกที่อยู่ใน []แทนค่า i\n",
    "    print(i)"
   ]
  },
  {
   "cell_type": "code",
   "execution_count": 43,
   "metadata": {},
   "outputs": [
    {
     "name": "stdout",
     "output_type": "stream",
     "text": [
      "T -> /\n",
      "h -> /\n",
      "a -> /\n",
      "n -> /\n",
      "a -> /\n",
      "p -> /\n",
      "o -> /\n",
      "n -> /\n",
      "g -> /\n"
     ]
    }
   ],
   "source": [
    "for i in 'Thanapong': # สำหรับทุก i ที่อยู่ในตัวแปรนี้ให้ปริ้นส์เป็น f'{i} -> /' \n",
    "    print(f'{i} -> /')"
   ]
  },
  {
   "cell_type": "code",
   "execution_count": 46,
   "metadata": {},
   "outputs": [
    {
     "name": "stdout",
     "output_type": "stream",
     "text": [
      "T -> /\n",
      " \n",
      "h -> /\n",
      " \n",
      "a -> /\n",
      " \n",
      "n -> /\n",
      " \n",
      "a -> /\n",
      " \n",
      "p -> /\n",
      " \n",
      "o -> /\n",
      " \n",
      "n -> /\n",
      " \n",
      "g -> /\n",
      " \n"
     ]
    }
   ],
   "source": [
    "for i in 'Thanapong': # สำหรับทุก i ที่อยู่ในตัวแปรนี้ให้ปริ้นส์เป็น f'{i} -> /' อันนี้คือจะ เว้นให้ (' ') อันนี้แปรว่าว่างเปล่า คือมันไม่มีอะไรเลยปริ้นส์เป็นเว้น\n",
    "    print(f'{i} -> /')\n",
    "    print(' ')"
   ]
  },
  {
   "cell_type": "markdown",
   "metadata": {},
   "source": [
    "## 1 สร้าง list ชื่อเพื่อนที่อยู่ในแถวยาวเดียวกัน \n",
    "### 1.5 สร้าง function print ประโยคว่า XXXเรา YYYความรู้สึก ZZZเพื่อนในแถวยาว\n",
    "## 2 วนลูป เรียก function โดยเปลี่ยนชื่อเพื่อนไปเรื่อยๆ\n"
   ]
  },
  {
   "cell_type": "markdown",
   "metadata": {},
   "source": [
    "## function in loop"
   ]
  },
  {
   "cell_type": "code",
   "execution_count": 120,
   "metadata": {},
   "outputs": [],
   "source": [
    "list_name = ['ออย','แป้ง','แบม','แคน','ผิง','ฟรุ้ค']   # ชื่อฟังก์ชัน = ['input']\n",
    "                                                    # สร้าง list ชื่อเพื่อนที่อยู่ในแถวยาวเดียวกัน "
   ]
  },
  {
   "cell_type": "code",
   "execution_count": 155,
   "metadata": {},
   "outputs": [],
   "source": [
    "def print_feeling(I,feeling,friend):\n",
    "    print(f'{I} {feeling} {friend}')    # สร้าง function print ประโยคว่า XXXเรา YYYความรู้สึก ZZZเพื่อนในแถวยาว"
   ]
  },
  {
   "cell_type": "code",
   "execution_count": 156,
   "metadata": {},
   "outputs": [
    {
     "name": "stdout",
     "output_type": "stream",
     "text": [
      "เนส จับมือ ออย\n"
     ]
    }
   ],
   "source": [
    "print_feeling('เนส','จับมือ','ออย')"
   ]
  },
  {
   "cell_type": "code",
   "execution_count": 157,
   "metadata": {},
   "outputs": [
    {
     "name": "stdout",
     "output_type": "stream",
     "text": [
      "เนส จับมือ ออย\n",
      "เนส จับมือ แป้ง\n",
      "เนส จับมือ แบม\n",
      "เนส จับมือ แคน\n",
      "เนส จับมือ ผิง\n",
      "เนส จับมือ ฟรุ้ค\n"
     ]
    }
   ],
   "source": [
    "for f in list_name:\n",
    "    print_feeling('เนส','จับมือ',f)     # วนลูป เรียก function โดยเปลี่ยนชื่อเพื่อนไปเรื่อยๆ"
   ]
  },
  {
   "cell_type": "markdown",
   "metadata": {},
   "source": [
    "## loop in loop (เป็นการวนซ้ำ ให้ครบทุกคน)"
   ]
  },
  {
   "cell_type": "code",
   "execution_count": 159,
   "metadata": {},
   "outputs": [
    {
     "name": "stdout",
     "output_type": "stream",
     "text": [
      "ออย จับมือ ออย\n",
      "ออย จับมือ แป้ง\n",
      "ออย จับมือ แบม\n",
      "ออย จับมือ แคน\n",
      "ออย จับมือ ผิง\n",
      "ออย จับมือ ฟรุ้ค\n",
      "แป้ง จับมือ ออย\n",
      "แป้ง จับมือ แป้ง\n",
      "แป้ง จับมือ แบม\n",
      "แป้ง จับมือ แคน\n",
      "แป้ง จับมือ ผิง\n",
      "แป้ง จับมือ ฟรุ้ค\n",
      "แบม จับมือ ออย\n",
      "แบม จับมือ แป้ง\n",
      "แบม จับมือ แบม\n",
      "แบม จับมือ แคน\n",
      "แบม จับมือ ผิง\n",
      "แบม จับมือ ฟรุ้ค\n",
      "แคน จับมือ ออย\n",
      "แคน จับมือ แป้ง\n",
      "แคน จับมือ แบม\n",
      "แคน จับมือ แคน\n",
      "แคน จับมือ ผิง\n",
      "แคน จับมือ ฟรุ้ค\n",
      "ผิง จับมือ ออย\n",
      "ผิง จับมือ แป้ง\n",
      "ผิง จับมือ แบม\n",
      "ผิง จับมือ แคน\n",
      "ผิง จับมือ ผิง\n",
      "ผิง จับมือ ฟรุ้ค\n",
      "ฟรุ้ค จับมือ ออย\n",
      "ฟรุ้ค จับมือ แป้ง\n",
      "ฟรุ้ค จับมือ แบม\n",
      "ฟรุ้ค จับมือ แคน\n",
      "ฟรุ้ค จับมือ ผิง\n",
      "ฟรุ้ค จับมือ ฟรุ้ค\n"
     ]
    }
   ],
   "source": [
    "for name1 in list_name:\n",
    "    for name2 in list_name:\n",
    "        print_feeling(name1,'จับมือ',name2)   # อยากให้ชื่อแรกวนไปชื่อหลัง มันจะรันจากคนแรกจนครบ ไป คนหลังจนจับมือครบละค่อยเริ่มคนใหม่จับมือไป"
   ]
  },
  {
   "cell_type": "markdown",
   "metadata": {},
   "source": [
    "## loop in function"
   ]
  },
  {
   "cell_type": "code",
   "execution_count": 129,
   "metadata": {},
   "outputs": [],
   "source": [
    "def print_feelings(I,feeling,friends):\n",
    "    for friend in friends:\n",
    "        print(f'{I} {feeling} {friend}')"
   ]
  },
  {
   "cell_type": "code",
   "execution_count": 130,
   "metadata": {},
   "outputs": [
    {
     "name": "stdout",
     "output_type": "stream",
     "text": [
      "เนส จับมือ ออย\n",
      "เนส จับมือ แป้ง\n",
      "เนส จับมือ แบม\n",
      "เนส จับมือ แคน\n",
      "เนส จับมือ ผิง\n",
      "เนส จับมือ ฟรุ้ค\n"
     ]
    }
   ],
   "source": [
    " print_feelings('เนส','จับมือ', friend_list)"
   ]
  },
  {
   "cell_type": "code",
   "execution_count": 131,
   "metadata": {},
   "outputs": [
    {
     "data": {
      "text/plain": [
       "'เนส จับมือ ค'"
      ]
     },
     "execution_count": 131,
     "metadata": {},
     "output_type": "execute_result"
    }
   ],
   "source": [
    "f'เนส จับมือ {i}'"
   ]
  },
  {
   "cell_type": "code",
   "execution_count": 132,
   "metadata": {},
   "outputs": [
    {
     "name": "stdout",
     "output_type": "stream",
     "text": [
      "เนส จับมือออย\n",
      "เนส จับมือแป้ง\n",
      "เนส จับมือแบม\n",
      "เนส จับมือแคน\n",
      "เนส จับมือผิง\n",
      "เนส จับมือฟรุ้ค\n"
     ]
    }
   ],
   "source": [
    "for i in list_name:\n",
    "    print(f'เนส จับมือ{i}')"
   ]
  },
  {
   "cell_type": "markdown",
   "metadata": {},
   "source": [
    "## looping in dict"
   ]
  },
  {
   "cell_type": "code",
   "execution_count": 150,
   "metadata": {},
   "outputs": [
    {
     "data": {
      "text/plain": [
       "{'พันทิพา': 'B', 'ศุภนิตา': 'C', 'ปนัดดา': 'A', 'ทรงกลด': 'F'}"
      ]
     },
     "execution_count": 150,
     "metadata": {},
     "output_type": "execute_result"
    }
   ],
   "source": [
    "name_grade = {'พันทิพา':'B','ศุภนิตา':'C','ปนัดดา':'A','ทรงกลด':'F'}  # สร้าง dict โดยตั้งชื่อว่า name_grade\n",
    "name_grade"
   ]
  },
  {
   "cell_type": "code",
   "execution_count": 151,
   "metadata": {},
   "outputs": [
    {
     "data": {
      "text/plain": [
       "'A'"
      ]
     },
     "execution_count": 151,
     "metadata": {},
     "output_type": "execute_result"
    }
   ],
   "source": [
    "name_grade['ปนัดดา']  "
   ]
  },
  {
   "cell_type": "code",
   "execution_count": 152,
   "metadata": {},
   "outputs": [
    {
     "data": {
      "text/plain": [
       "dict_keys(['พันทิพา', 'ศุภนิตา', 'ปนัดดา', 'ทรงกลด'])"
      ]
     },
     "execution_count": 152,
     "metadata": {},
     "output_type": "execute_result"
    }
   ],
   "source": [
    "name_grade.keys()"
   ]
  },
  {
   "cell_type": "code",
   "execution_count": 153,
   "metadata": {},
   "outputs": [
    {
     "name": "stdout",
     "output_type": "stream",
     "text": [
      "พันทิพา ได้เกรด B\n",
      "ศุภนิตา ได้เกรด C\n",
      "ปนัดดา ได้เกรด A\n",
      "ทรงกลด ได้เกรด F\n"
     ]
    }
   ],
   "source": [
    "for i in name_grade.keys():\n",
    "    print(f'{i} ได้เกรด {name_grade[i]}') # จะได้ list ของ index ทั้งหมด"
   ]
  },
  {
   "cell_type": "markdown",
   "metadata": {},
   "source": [
    "## conditional  เงื่อนไข\n",
    "# เครื่องหมายที่นิยมใช้\n",
    " ==   เช็คข้างหน้าข้างหลังเท่ากันไหม ถ้าเท่ากันจะตอบ true ถ้าไม่เท่าจะตอบ false\n",
    " !=   เช็คตัวหน้าไม่เท่ากับหลังไหม   ถ้าไม่จะตอบ true ถ้าเท่าจะตอบ false\n",
    " >=   ตัวหน้ามากกว่าข้างหลังไหม    ถ้ามากกว่ากันจะตอบ true ถ้าไม่มากจะตอบ false\n",
    " <=   ตัวหน้าน้อยกว่าข้างหลังไหม    ถ้าน้อยกว่ากันจะตอบ true ถ้าไม่น้อยจะตอบ false\n",
    " <    จะผ่าน condition หรือเปล่า  \n",
    " >"
   ]
  },
  {
   "cell_type": "markdown",
   "metadata": {},
   "source": [
    "```python\n",
    "if condition1:           # condition = ประโยคเงื่อนไข (ถ้าผ่านเงื่อนไขแรกก็ทำอันแรก)\n",
    "    do something\n",
    "elif condition2:         # ถ้าไม่ผ่านเงื่อนไขแรกมันจะมาทำเงื่อนไขที่สอง\n",
    "    do another thing\n",
    "else:                    # ถ้าไม่ผ่านเงื่อนไขที่สองให้ทำ else \n",
    "    do...                # ถ้าไม่ผ่านเงื่อนไขที่สามให้ทำเงื่อนไข do\n",
    "```"
   ]
  },
  {
   "cell_type": "code",
   "execution_count": 161,
   "metadata": {},
   "outputs": [
    {
     "name": "stdout",
     "output_type": "stream",
     "text": [
      "ออย รัก แป้ง\n",
      "ออย รัก แบม\n",
      "ออย รัก แคน\n",
      "ออย รัก ผิง\n",
      "ออย รัก ฟรุ้ค\n",
      "แป้ง รัก ออย\n",
      "แป้ง รัก แบม\n",
      "แป้ง รัก แคน\n",
      "แป้ง รัก ผิง\n",
      "แป้ง รัก ฟรุ้ค\n",
      "แบม รัก ออย\n",
      "แบม รัก แป้ง\n",
      "แบม รัก แคน\n",
      "แบม รัก ผิง\n",
      "แบม รัก ฟรุ้ค\n",
      "แคน รัก ออย\n",
      "แคน รัก แป้ง\n",
      "แคน รัก แบม\n",
      "แคน รัก ผิง\n",
      "แคน รัก ฟรุ้ค\n",
      "ผิง รัก ออย\n",
      "ผิง รัก แป้ง\n",
      "ผิง รัก แบม\n",
      "ผิง รัก แคน\n",
      "ผิง รัก ฟรุ้ค\n",
      "ฟรุ้ค รัก ออย\n",
      "ฟรุ้ค รัก แป้ง\n",
      "ฟรุ้ค รัก แบม\n",
      "ฟรุ้ค รัก แคน\n",
      "ฟรุ้ค รัก ผิง\n"
     ]
    }
   ],
   "source": [
    "for name1 in list_name:\n",
    "    for name2 in list_name:\n",
    "        if name1 !=name2:\n",
    "            print_feeling(name1,'รัก',name2)   # อันนี้คือ ไม่อยากให้มันรักตัวเอง ไม่ให้มันวนมาเจอตัวเอง"
   ]
  },
  {
   "cell_type": "code",
   "execution_count": 163,
   "metadata": {},
   "outputs": [
    {
     "name": "stdout",
     "output_type": "stream",
     "text": [
      "Yes\n"
     ]
    }
   ],
   "source": [
    "if True:              #หลัง if เป็นได้แค่ true กับ false \n",
    "    print('Yes')"
   ]
  },
  {
   "cell_type": "code",
   "execution_count": 165,
   "metadata": {},
   "outputs": [],
   "source": [
    "if False:              #หลัง if เป็นเท็จมันจะเด้งออกไป ไม่ Run\n",
    "    print('No')"
   ]
  },
  {
   "cell_type": "code",
   "execution_count": 168,
   "metadata": {},
   "outputs": [
    {
     "name": "stdout",
     "output_type": "stream",
     "text": [
      "No\n"
     ]
    }
   ],
   "source": [
    "if False:              \n",
    "    print('Yes')\n",
    "else:              \n",
    "    print('No')"
   ]
  },
  {
   "cell_type": "code",
   "execution_count": 170,
   "metadata": {},
   "outputs": [
    {
     "name": "stdout",
     "output_type": "stream",
     "text": [
      "1=1\n"
     ]
    }
   ],
   "source": [
    "if 1 == 1:   # เครื่องหมายหลัง if == คือดูว่ามันเท่ากันหรือเปล่า ถ้าหน้ากับหลังเหมือนกันจะตอบว่า true\n",
    "    print('1=1')"
   ]
  },
  {
   "cell_type": "markdown",
   "metadata": {},
   "source": [
    "# Hw"
   ]
  },
  {
   "cell_type": "markdown",
   "metadata": {},
   "source": [
    "#เขียน function ตัดเกรด โดยที่ input เป็น คะแนน(0-100) output เป็นเกรด (F-A)\n",
    "\n",
    "#input = [1,50,65,90,101,-5,49]"
   ]
  },
  {
   "cell_type": "code",
   "execution_count": 2,
   "metadata": {},
   "outputs": [],
   "source": [
    "G = [1,50,65,90,101,-5,49]"
   ]
  },
  {
   "cell_type": "code",
   "execution_count": 4,
   "metadata": {},
   "outputs": [
    {
     "name": "stdout",
     "output_type": "stream",
     "text": [
      "F\n",
      "D\n",
      "C+\n",
      "A\n",
      "A\n",
      "F\n",
      "F\n"
     ]
    }
   ],
   "source": [
    "for i in G:\n",
    "    if i >79:\n",
    "        print('A')\n",
    "    elif i >74:\n",
    "         print('B+')\n",
    "    elif i >69:\n",
    "         print('B')\n",
    "    elif i >64:\n",
    "         print('C+')\n",
    "    elif i >59:\n",
    "         print('C')\n",
    "    elif i >54:\n",
    "         print('D+')\n",
    "    elif i >49:\n",
    "         print('D')\n",
    "    else:\n",
    "         print('F')"
   ]
  },
  {
   "cell_type": "code",
   "execution_count": null,
   "metadata": {},
   "outputs": [],
   "source": []
  }
 ],
 "metadata": {
  "kernelspec": {
   "display_name": "Python 3",
   "language": "python",
   "name": "python3"
  },
  "language_info": {
   "codemirror_mode": {
    "name": "ipython",
    "version": 3
   },
   "file_extension": ".py",
   "mimetype": "text/x-python",
   "name": "python",
   "nbconvert_exporter": "python",
   "pygments_lexer": "ipython3",
   "version": "3.7.3"
  }
 },
 "nbformat": 4,
 "nbformat_minor": 2
}
