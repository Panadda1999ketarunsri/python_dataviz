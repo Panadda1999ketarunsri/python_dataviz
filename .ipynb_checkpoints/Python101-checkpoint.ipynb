{
 "cells": [
  {
   "cell_type": "markdown",
   "metadata": {},
   "source": [
    "#   Variables (ตัวแปร)"
   ]
  },
  {
   "cell_type": "markdown",
   "metadata": {},
   "source": [
    " ** ข้อควรระวัง ตัวแปรห้ามตั้งชื่อเป็นภาษาไทย และ ไม่ควรตั้งชื่อตัวแปรเหมือนชื่อคำสั่ง เช่น int , float"
   ]
  },
  {
   "cell_type": "markdown",
   "metadata": {},
   "source": [
    "####  มี 4 ประเภท  \n",
    "####  int (จำนวนเต็ม) = intและfloat สามารถ + - * / ได้  \n",
    "####  float (ทศนิยม)\n",
    "####  char หรือ charactor (ตัวหนังสือ) = char ไม่สามารถ + - * / ได้ \n",
    "####  operations หรือ operators"
   ]
  },
  {
   "cell_type": "markdown",
   "metadata": {},
   "source": [
    "## > int (จำนวนเต็ม)\n"
   ]
  },
  {
   "cell_type": "code",
   "execution_count": 18,
   "metadata": {},
   "outputs": [],
   "source": [
    "a = 10      # a คือ ตัวแปรที่กำหนด         "
   ]
  },
  {
   "cell_type": "code",
   "execution_count": 19,
   "metadata": {},
   "outputs": [
    {
     "name": "stdout",
     "output_type": "stream",
     "text": [
      "10\n"
     ]
    }
   ],
   "source": [
    "print(a)    # print(ตัวแปร) คือ การแสดงค่า"
   ]
  },
  {
   "cell_type": "markdown",
   "metadata": {},
   "source": [
    "## > float (ทศนิยม)\n"
   ]
  },
  {
   "cell_type": "code",
   "execution_count": 20,
   "metadata": {},
   "outputs": [],
   "source": [
    "b = 10.    "
   ]
  },
  {
   "cell_type": "code",
   "execution_count": 21,
   "metadata": {},
   "outputs": [
    {
     "name": "stdout",
     "output_type": "stream",
     "text": [
      "10.0\n"
     ]
    }
   ],
   "source": [
    "print(b)"
   ]
  },
  {
   "cell_type": "markdown",
   "metadata": {},
   "source": [
    "## > char หรือ charactor (ตัวหนังสือ)\n",
    "เวลาเราจะสร้าง char สามารถทำได้โดยการ ใส่ ' ' หรือ \" \" ก็ได้\n"
   ]
  },
  {
   "cell_type": "code",
   "execution_count": 22,
   "metadata": {},
   "outputs": [],
   "source": [
    "c = '1'     # หมายถึง c เป็น charactor ของ 1"
   ]
  },
  {
   "cell_type": "code",
   "execution_count": 23,
   "metadata": {},
   "outputs": [
    {
     "data": {
      "text/plain": [
       "'1'"
      ]
     },
     "execution_count": 23,
     "metadata": {},
     "output_type": "execute_result"
    }
   ],
   "source": [
    "c           "
   ]
  },
  {
   "cell_type": "code",
   "execution_count": 24,
   "metadata": {},
   "outputs": [],
   "source": [
    "d = \"1\""
   ]
  },
  {
   "cell_type": "code",
   "execution_count": 25,
   "metadata": {},
   "outputs": [
    {
     "data": {
      "text/plain": [
       "'1'"
      ]
     },
     "execution_count": 25,
     "metadata": {},
     "output_type": "execute_result"
    }
   ],
   "source": [
    "d"
   ]
  },
  {
   "cell_type": "markdown",
   "metadata": {},
   "source": [
    "## > operations หรือ operators (+ - * /)\n",
    "ตัวแปรสามารถนำมา บวก ลบ คูณ หาร ได้\n",
    "และมีเครื่องหมาย % เรียกว่า Modulo"
   ]
  },
  {
   "cell_type": "code",
   "execution_count": 31,
   "metadata": {},
   "outputs": [
    {
     "data": {
      "text/plain": [
       "20.0"
      ]
     },
     "execution_count": 31,
     "metadata": {},
     "output_type": "execute_result"
    }
   ],
   "source": [
    "a+b           # a+b จะไม่สามารถนำไปใช้ต่อได้ เพราะไม่มีตัวมารับค่า   มันจะปริ้นส์เฉยๆ ไม่มีตัวแปรที่มารองรับ"
   ]
  },
  {
   "cell_type": "code",
   "execution_count": 32,
   "metadata": {},
   "outputs": [],
   "source": [
    "ab = a+b     # ab คือตัวแปรใหม่ที่เราสร้างขึ้นมารับค่า   "
   ]
  },
  {
   "cell_type": "code",
   "execution_count": 33,
   "metadata": {},
   "outputs": [
    {
     "data": {
      "text/plain": [
       "20.0"
      ]
     },
     "execution_count": 33,
     "metadata": {},
     "output_type": "execute_result"
    }
   ],
   "source": [
    "ab           # ถ้ามีตัวที่มารองรับค่า มันจะมีตรงนี้"
   ]
  },
  {
   "cell_type": "code",
   "execution_count": 34,
   "metadata": {},
   "outputs": [
    {
     "name": "stdout",
     "output_type": "stream",
     "text": [
      "10.0\n"
     ]
    }
   ],
   "source": [
    "a_b = ab-b   # เราสามารถเขียนโค้ดหลายๆบรรทัด ลงใน cell เดียวได้ โดยการกด Enter ละให้มัน print()  \n",
    "print(a_b)   # เราจะได้ทั้งค่าที่อยู่ในตัวแปร a_b พร้อมทั้งแสดงผลออกมาด้วย"
   ]
  },
  {
   "cell_type": "code",
   "execution_count": 35,
   "metadata": {},
   "outputs": [
    {
     "data": {
      "text/plain": [
       "10.0"
      ]
     },
     "execution_count": 35,
     "metadata": {},
     "output_type": "execute_result"
    }
   ],
   "source": [
    "a_b          # หรือถ้าอยากทำแบบนี้ก็ได้"
   ]
  },
  {
   "cell_type": "markdown",
   "metadata": {},
   "source": [
    "## - Modulo  (การหารเอาเศษ)  %\n",
    " ใช้เมื่อต้องการวนลูป\n",
    "   สัญลักษณ์คือ % เช่น 5 % 3 =2 คือ เอา3หาร5 จะเหลือเศษ 2 เราดูที่เศษ"
   ]
  },
  {
   "cell_type": "code",
   "execution_count": 36,
   "metadata": {},
   "outputs": [
    {
     "data": {
      "text/plain": [
       "2"
      ]
     },
     "execution_count": 36,
     "metadata": {},
     "output_type": "execute_result"
    }
   ],
   "source": [
    "5 % 3    # หารเอาเศษ"
   ]
  },
  {
   "cell_type": "markdown",
   "metadata": {},
   "source": [
    "## - /  (เครื่องหมาย หาร)"
   ]
  },
  {
   "cell_type": "code",
   "execution_count": 37,
   "metadata": {},
   "outputs": [],
   "source": [
    "x1 = 5   # สร้างตัวแปรที่เป็น int หรือ จำนวนเต็ม \n",
    "x2 =3 "
   ]
  },
  {
   "cell_type": "code",
   "execution_count": 26,
   "metadata": {},
   "outputs": [
    {
     "data": {
      "text/plain": [
       "1.6666666666666667"
      ]
     },
     "execution_count": 26,
     "metadata": {},
     "output_type": "execute_result"
    }
   ],
   "source": [
    "x1/x2"
   ]
  },
  {
   "cell_type": "markdown",
   "metadata": {},
   "source": [
    "## - int()    \n",
    "### แปลง float ทศนิยม > int จำนวนเต็ม\n",
    "คำสั่งนี้ จะช่วยแปลง ทศนิยม ให้เป็นint หรือ จำนวนเต็ม"
   ]
  },
  {
   "cell_type": "code",
   "execution_count": 27,
   "metadata": {},
   "outputs": [],
   "source": [
    "x1 = 5\n",
    "x2 =3 "
   ]
  },
  {
   "cell_type": "code",
   "execution_count": 28,
   "metadata": {},
   "outputs": [
    {
     "data": {
      "text/plain": [
       "1.6666666666666667"
      ]
     },
     "execution_count": 28,
     "metadata": {},
     "output_type": "execute_result"
    }
   ],
   "source": [
    "x1/x2                # ถ้าหารปกติ มันได้ทศนิยม แล้วบางข้อมูลเราไม่ต้องการทศนิยม ให้ใช้ int()"
   ]
  },
  {
   "cell_type": "code",
   "execution_count": 38,
   "metadata": {},
   "outputs": [
    {
     "data": {
      "text/plain": [
       "1"
      ]
     },
     "execution_count": 38,
     "metadata": {},
     "output_type": "execute_result"
    }
   ],
   "source": [
    "int(x1/x2)          # เปลี่ยนข้อมูลในวงเล็บ ให้เป็น indeter โดย int()จะทำให้ทศนิยมเป็นจำนวนเต็ม"
   ]
  },
  {
   "cell_type": "code",
   "execution_count": 31,
   "metadata": {},
   "outputs": [
    {
     "name": "stdout",
     "output_type": "stream",
     "text": [
      "1\n"
     ]
    }
   ],
   "source": [
    "o = int(x1/x2)     # เราสร้างตัวแปรขึ้นมารับค่า\n",
    "print(o)"
   ]
  },
  {
   "cell_type": "code",
   "execution_count": 32,
   "metadata": {},
   "outputs": [
    {
     "data": {
      "text/plain": [
       "1.0"
      ]
     },
     "execution_count": 32,
     "metadata": {},
     "output_type": "execute_result"
    }
   ],
   "source": [
    "float(o)          # เปลี่ยน O ให้เป็น float ทศนิยม "
   ]
  },
  {
   "cell_type": "markdown",
   "metadata": {},
   "source": [
    "# Data Stucture (โครงสร้างข้อมูล)\n",
    "Data stucture(โครงสร้างข้อมูล) คือ การเก็บตัวแปรหลายๆตัวแปร ให้อยู่ในรูปแบบใดรูปแบบหนึ่ง\n",
    "มี 7 โครงสร้าง\n",
    "#### List     คือ การเอาตัวแปรหลายๆตัวแปร มาเรียงต่อกัน\n",
    "#### append() เพิ่มสมาชิกใน list\n",
    "#### String -> list of characters\n",
    "#### access member of list (list & string)\n",
    "#### first member of the list (วนข้างหน้า)\n",
    "#### Dictionary {curly brackets} \n",
    "#### add a member to a dict"
   ]
  },
  {
   "cell_type": "markdown",
   "metadata": {},
   "source": [
    "## > List  \n",
    "\n",
    "คือ การเอาตัวแปรหลายๆตัวแปร มาเรียงต่อกัน\n",
    "\n",
    "[ ] < วงเล็บเหลี่ยม (square brackets)\n",
    "#### ทำได้ 2 แบบ"
   ]
  },
  {
   "cell_type": "markdown",
   "metadata": {},
   "source": [
    "## - List constuction method 1  (วิธีที่ 1)"
   ]
  },
  {
   "cell_type": "code",
   "execution_count": 39,
   "metadata": {},
   "outputs": [],
   "source": [
    "list_a = []                # ถ้าชื่อตัวแปรซ้ำมันจะขึ้นสีเขียว เราจึงใส่ list_a\n",
    "# แบบที่ 1 : ตัวแปร = []"
   ]
  },
  {
   "cell_type": "code",
   "execution_count": 34,
   "metadata": {},
   "outputs": [
    {
     "data": {
      "text/plain": [
       "[]"
      ]
     },
     "execution_count": 34,
     "metadata": {},
     "output_type": "execute_result"
    }
   ],
   "source": [
    "list_a                     # list นี้ไม่มีสมาชิก"
   ]
  },
  {
   "cell_type": "code",
   "execution_count": 40,
   "metadata": {},
   "outputs": [],
   "source": [
    "list_b = [1,5,'v']        # สร้างสมาชิกให้ list โดย list สามารถมีตัวแปรหลายๆชนิดใน list เดียวกันได้ "
   ]
  },
  {
   "cell_type": "code",
   "execution_count": 41,
   "metadata": {},
   "outputs": [
    {
     "name": "stdout",
     "output_type": "stream",
     "text": [
      "[1, 5, 'v']\n"
     ]
    }
   ],
   "source": [
    "print(list_b)"
   ]
  },
  {
   "cell_type": "markdown",
   "metadata": {},
   "source": [
    "## - List constuction method 2  (วิธีที่ 2)"
   ]
  },
  {
   "cell_type": "code",
   "execution_count": 48,
   "metadata": {},
   "outputs": [],
   "source": [
    "list_c = list()\n",
    "# แบบที่ 2 : ตัวแปร = list()"
   ]
  },
  {
   "cell_type": "code",
   "execution_count": 49,
   "metadata": {},
   "outputs": [
    {
     "data": {
      "text/plain": [
       "[]"
      ]
     },
     "execution_count": 49,
     "metadata": {},
     "output_type": "execute_result"
    }
   ],
   "source": [
    "list_c "
   ]
  },
  {
   "cell_type": "markdown",
   "metadata": {},
   "source": [
    "## > append() เพิ่มสมาชิกใน list"
   ]
  },
  {
   "cell_type": "code",
   "execution_count": 50,
   "metadata": {},
   "outputs": [
    {
     "name": "stdout",
     "output_type": "stream",
     "text": [
      "['u']\n"
     ]
    }
   ],
   "source": [
    "list_c.append('u')     # เพิ่มสมาชิกให้ list คือ จะเอาไปต่อท้าย list\n",
    "print(list_c)      "
   ]
  },
  {
   "cell_type": "code",
   "execution_count": 51,
   "metadata": {},
   "outputs": [
    {
     "data": {
      "text/plain": [
       "'u'"
      ]
     },
     "execution_count": 51,
     "metadata": {},
     "output_type": "execute_result"
    }
   ],
   "source": [
    "list_c.pop()          # การเอาสมาชิกออก ดึงตัวหลังสุดไปทีละตัว"
   ]
  },
  {
   "cell_type": "code",
   "execution_count": 52,
   "metadata": {},
   "outputs": [
    {
     "name": "stdout",
     "output_type": "stream",
     "text": [
      "['a']\n"
     ]
    }
   ],
   "source": [
    "list_c.append('a')    \n",
    "print(list_c)"
   ]
  },
  {
   "cell_type": "code",
   "execution_count": 53,
   "metadata": {},
   "outputs": [
    {
     "data": {
      "text/plain": [
       "['a']"
      ]
     },
     "execution_count": 53,
     "metadata": {},
     "output_type": "execute_result"
    }
   ],
   "source": [
    "list_c"
   ]
  },
  {
   "cell_type": "code",
   "execution_count": 54,
   "metadata": {},
   "outputs": [
    {
     "data": {
      "text/plain": [
       "['a']"
      ]
     },
     "execution_count": 54,
     "metadata": {},
     "output_type": "execute_result"
    }
   ],
   "source": [
    "list_c\n"
   ]
  },
  {
   "cell_type": "markdown",
   "metadata": {},
   "source": [
    "## > String -> list of characters (list ของ ตัวหนังสือ)\n",
    "ตัวอักษรในการรัน,ข้อความ"
   ]
  },
  {
   "cell_type": "code",
   "execution_count": 55,
   "metadata": {},
   "outputs": [
    {
     "data": {
      "text/plain": [
       "'python is easy'"
      ]
     },
     "execution_count": 55,
     "metadata": {},
     "output_type": "execute_result"
    }
   ],
   "source": [
    "t = 'python is easy'     # การสร้าง string เราจะกำหนด ตัวแปร = 'ตัวหนังสือ charactor'\n",
    "t                        # 'python is easy' คือ มี charactor ทั้งหมด 14 ตัว โดยจะนับเริ่มจาก 0 และนับช่องว่างด้วย"
   ]
  },
  {
   "cell_type": "code",
   "execution_count": 56,
   "metadata": {},
   "outputs": [
    {
     "data": {
      "text/plain": [
       "1"
      ]
     },
     "execution_count": 56,
     "metadata": {},
     "output_type": "execute_result"
    }
   ],
   "source": [
    "len(list_c)             # len คือ จะบอกว่า สมาชิกที่อยู่ใน list มีกี่ตัว"
   ]
  },
  {
   "cell_type": "code",
   "execution_count": 57,
   "metadata": {},
   "outputs": [
    {
     "data": {
      "text/plain": [
       "14"
      ]
     },
     "execution_count": 57,
     "metadata": {},
     "output_type": "execute_result"
    }
   ],
   "source": [
    "len(t)"
   ]
  },
  {
   "cell_type": "markdown",
   "metadata": {},
   "source": [
    "## > access member of list (list & string)"
   ]
  },
  {
   "cell_type": "code",
   "execution_count": 59,
   "metadata": {},
   "outputs": [
    {
     "data": {
      "text/plain": [
       "'y'"
      ]
     },
     "execution_count": 59,
     "metadata": {},
     "output_type": "execute_result"
    }
   ],
   "source": [
    "t[1]                 # t ตัวที่ 1 คือ y (t = 'p .y t h o n   i s   e  a  s  y')\n",
    "                                      #   0  1 2 3 4 5 6 7 8 9 10 11 12 13 "
   ]
  },
  {
   "cell_type": "code",
   "execution_count": 65,
   "metadata": {},
   "outputs": [
    {
     "data": {
      "text/plain": [
       "'a'"
      ]
     },
     "execution_count": 65,
     "metadata": {},
     "output_type": "execute_result"
    }
   ],
   "source": [
    "list_c[0]"
   ]
  },
  {
   "cell_type": "markdown",
   "metadata": {},
   "source": [
    "## > first member of the list (วนข้างหน้า)"
   ]
  },
  {
   "cell_type": "code",
   "execution_count": 66,
   "metadata": {},
   "outputs": [
    {
     "data": {
      "text/plain": [
       "'p'"
      ]
     },
     "execution_count": 66,
     "metadata": {},
     "output_type": "execute_result"
    }
   ],
   "source": [
    "t[0]              #(t = 'p y t h o n   i s   e  a  s  y')\n",
    "                    #   0 1 2 3 4 5 6 7 8 9 10 11 12 13 "
   ]
  },
  {
   "cell_type": "markdown",
   "metadata": {},
   "source": [
    "## >last member of the list (วนข้างหลัง)"
   ]
  },
  {
   "cell_type": "code",
   "execution_count": 67,
   "metadata": {},
   "outputs": [
    {
     "data": {
      "text/plain": [
       "'y'"
      ]
     },
     "execution_count": 67,
     "metadata": {},
     "output_type": "execute_result"
    }
   ],
   "source": [
    "t[len(t)-1]        #(t = 'p y t h o n   i s   e  a  s  .y')\n",
    "                     #   0 1 2 3 4 5 6 7 8 9 10 11  12 13 "
   ]
  },
  {
   "cell_type": "code",
   "execution_count": 68,
   "metadata": {},
   "outputs": [
    {
     "data": {
      "text/plain": [
       "'y'"
      ]
     },
     "execution_count": 68,
     "metadata": {},
     "output_type": "execute_result"
    }
   ],
   "source": [
    "t[-1]"
   ]
  },
  {
   "cell_type": "code",
   "execution_count": 69,
   "metadata": {},
   "outputs": [
    {
     "data": {
      "text/plain": [
       "'s'"
      ]
     },
     "execution_count": 69,
     "metadata": {},
     "output_type": "execute_result"
    }
   ],
   "source": [
    "t[-2]              #(t = 'p y t h o n   i s   e  a .s  y')\n",
    "                     #   0 1 2 3 4 5 6 7 8 9 10 11 12 13 "
   ]
  },
  {
   "cell_type": "markdown",
   "metadata": {},
   "source": [
    "### exceed index of the list"
   ]
  },
  {
   "cell_type": "code",
   "execution_count": 71,
   "metadata": {},
   "outputs": [
    {
     "ename": "IndexError",
     "evalue": "string index out of range",
     "output_type": "error",
     "traceback": [
      "\u001b[1;31m---------------------------------------------------------------------------\u001b[0m",
      "\u001b[1;31mIndexError\u001b[0m                                Traceback (most recent call last)",
      "\u001b[1;32m<ipython-input-71-2b6e8273573b>\u001b[0m in \u001b[0;36m<module>\u001b[1;34m\u001b[0m\n\u001b[1;32m----> 1\u001b[1;33m \u001b[0mt\u001b[0m\u001b[1;33m[\u001b[0m\u001b[1;36m15\u001b[0m\u001b[1;33m]\u001b[0m \u001b[1;31m# มันเกินไปเลยเออเร่อ\u001b[0m\u001b[1;33m\u001b[0m\u001b[1;33m\u001b[0m\u001b[0m\n\u001b[0m",
      "\u001b[1;31mIndexError\u001b[0m: string index out of range"
     ]
    }
   ],
   "source": [
    "t[15] # มันเกินไปเลยเออเร่อ  index ของ string มันเกินเลยเออเร่อ"
   ]
  },
  {
   "cell_type": "markdown",
   "metadata": {},
   "source": [
    "### > list slicing [ : ]  การเฉือน"
   ]
  },
  {
   "cell_type": "code",
   "execution_count": 60,
   "metadata": {},
   "outputs": [
    {
     "data": {
      "text/plain": [
       "'python'"
      ]
     },
     "execution_count": 60,
     "metadata": {},
     "output_type": "execute_result"
    }
   ],
   "source": [
    "t[:6]       # เฉือนส่วนหน้า 6 ตัว  'python is easy'  = python"
   ]
  },
  {
   "cell_type": "code",
   "execution_count": 74,
   "metadata": {},
   "outputs": [
    {
     "data": {
      "text/plain": [
       "'easy'"
      ]
     },
     "execution_count": 74,
     "metadata": {},
     "output_type": "execute_result"
    }
   ],
   "source": [
    "t[-4:]      # เฉือนส่วนหลัง 4 ตัว  'python is easy'  = easy"
   ]
  },
  {
   "cell_type": "code",
   "execution_count": 76,
   "metadata": {},
   "outputs": [
    {
     "data": {
      "text/plain": [
       "'is'"
      ]
     },
     "execution_count": 76,
     "metadata": {},
     "output_type": "execute_result"
    }
   ],
   "source": [
    "t[7:9]      # เอาตั้งแต่ตัวที่ 7 ,9 คือ เอาตั้งแต่หน้าตัวที่ 9"
   ]
  },
  {
   "cell_type": "markdown",
   "metadata": {},
   "source": [
    "## [a:b] -> [a,b]"
   ]
  },
  {
   "cell_type": "code",
   "execution_count": 77,
   "metadata": {},
   "outputs": [
    {
     "data": {
      "text/plain": [
       "'is'"
      ]
     },
     "execution_count": 77,
     "metadata": {},
     "output_type": "execute_result"
    }
   ],
   "source": [
    "t[7:9]"
   ]
  },
  {
   "cell_type": "markdown",
   "metadata": {},
   "source": [
    "## functions for string (string ต่อ string)"
   ]
  },
  {
   "cell_type": "code",
   "execution_count": 78,
   "metadata": {},
   "outputs": [
    {
     "data": {
      "text/plain": [
       "'python is easy??'"
      ]
     },
     "execution_count": 78,
     "metadata": {},
     "output_type": "execute_result"
    }
   ],
   "source": [
    "t + '??'          # การเอา string ต่่อ string"
   ]
  },
  {
   "cell_type": "code",
   "execution_count": 79,
   "metadata": {},
   "outputs": [
    {
     "data": {
      "text/plain": [
       "['python', 'is', 'easy']"
      ]
     },
     "execution_count": 79,
     "metadata": {},
     "output_type": "execute_result"
    }
   ],
   "source": [
    "t.split(' ')      # (' ') ในวงเล็บคือ เครื่องหมาย space ที่เราเว้นไว้"
   ]
  },
  {
   "cell_type": "code",
   "execution_count": 80,
   "metadata": {},
   "outputs": [],
   "source": [
    "time = '12:30:15'"
   ]
  },
  {
   "cell_type": "markdown",
   "metadata": {},
   "source": [
    "## > Dictionary {curly brackets} \n",
    "สัญลักษณ์ คือ {} เรียกว่า curly brackets\n",
    "list กับ dictionary ต่างกันที่ list index เป็นตัวเลข แต่ dic index เป็นอะไรก็ได้\n",
    "index ของ dict ไม่สามารถเป็น float หรือทศนิยม"
   ]
  },
  {
   "cell_type": "code",
   "execution_count": 83,
   "metadata": {},
   "outputs": [],
   "source": [
    "dict_a = {}"
   ]
  },
  {
   "cell_type": "code",
   "execution_count": 84,
   "metadata": {},
   "outputs": [
    {
     "data": {
      "text/plain": [
       "{}"
      ]
     },
     "execution_count": 84,
     "metadata": {},
     "output_type": "execute_result"
    }
   ],
   "source": [
    "dict_a"
   ]
  },
  {
   "cell_type": "code",
   "execution_count": 68,
   "metadata": {},
   "outputs": [],
   "source": [
    "dict_b = {1:5,'c':7,'d':9}    # {index : ตัวที่เราต้องการ}"
   ]
  },
  {
   "cell_type": "code",
   "execution_count": 69,
   "metadata": {},
   "outputs": [
    {
     "data": {
      "text/plain": [
       "5"
      ]
     },
     "execution_count": 69,
     "metadata": {},
     "output_type": "execute_result"
    }
   ],
   "source": [
    "dict_b [1]"
   ]
  },
  {
   "cell_type": "code",
   "execution_count": 87,
   "metadata": {},
   "outputs": [
    {
     "data": {
      "text/plain": [
       "7"
      ]
     },
     "execution_count": 87,
     "metadata": {},
     "output_type": "execute_result"
    }
   ],
   "source": [
    "dict_b['c']\n"
   ]
  },
  {
   "cell_type": "code",
   "execution_count": 88,
   "metadata": {},
   "outputs": [
    {
     "data": {
      "text/plain": [
       "{1: 5, 'c': 7, 'd': 9}"
      ]
     },
     "execution_count": 88,
     "metadata": {},
     "output_type": "execute_result"
    }
   ],
   "source": [
    "dict_b"
   ]
  },
  {
   "cell_type": "markdown",
   "metadata": {},
   "source": [
    "## > add a member to a dict  ( วิธีเพิ่มสมาชิกเข้าไปใน dictionary )"
   ]
  },
  {
   "cell_type": "code",
   "execution_count": 71,
   "metadata": {},
   "outputs": [],
   "source": [
    "dict_b['stat'] = [1,2]"
   ]
  },
  {
   "cell_type": "code",
   "execution_count": 72,
   "metadata": {},
   "outputs": [
    {
     "data": {
      "text/plain": [
       "{1: 5, 'c': 7, 'd': 9, 'stat': [1, 2]}"
      ]
     },
     "execution_count": 72,
     "metadata": {},
     "output_type": "execute_result"
    }
   ],
   "source": [
    "dict_b    # ['stat'] = [1,2] คือ ตัวที่เพิ่มเข้ามาใน dict_b โดย stat คือ string"
   ]
  },
  {
   "cell_type": "code",
   "execution_count": 91,
   "metadata": {},
   "outputs": [],
   "source": [
    "dict_b['si'] = {1:'a','2':'b'}"
   ]
  },
  {
   "cell_type": "code",
   "execution_count": 92,
   "metadata": {},
   "outputs": [
    {
     "data": {
      "text/plain": [
       "{1: 5, 'c': 7, 'd': 9, 'stat': [1, 2], 'si': {1: 'a', '2': 'b'}}"
      ]
     },
     "execution_count": 92,
     "metadata": {},
     "output_type": "execute_result"
    }
   ],
   "source": [
    "dict_b    # ['si'] = {1:'a','2':'b'} เพิ่มเข้ามาอีก"
   ]
  },
  {
   "cell_type": "code",
   "execution_count": 93,
   "metadata": {},
   "outputs": [
    {
     "data": {
      "text/plain": [
       "{1: 'a', '2': 'b'}"
      ]
     },
     "execution_count": 93,
     "metadata": {},
     "output_type": "execute_result"
    }
   ],
   "source": [
    "dict_b['si']"
   ]
  },
  {
   "cell_type": "code",
   "execution_count": 94,
   "metadata": {},
   "outputs": [
    {
     "data": {
      "text/plain": [
       "'a'"
      ]
     },
     "execution_count": 94,
     "metadata": {},
     "output_type": "execute_result"
    }
   ],
   "source": [
    "dict_b['si'][1]"
   ]
  },
  {
   "cell_type": "markdown",
   "metadata": {},
   "source": [
    "# HW"
   ]
  },
  {
   "cell_type": "markdown",
   "metadata": {},
   "source": [
    "\n",
    "### คำนวณเวลาเป็น วินาที ของเวลาต่อไปนี้โดยใช้คำสั่ง split() ช่วย\n",
    "### 12:30:15\n",
    "### 13:41:07\n",
    "### 12:53:15\n",
    "### 00:59:25\n",
    "### 11:11:11\n",
    "### 16:06:09"
   ]
  },
  {
   "cell_type": "code",
   "execution_count": 61,
   "metadata": {},
   "outputs": [],
   "source": [
    "def time_sum(time):\n",
    "    t = time.split(':')\n",
    "    tt= (int(t[0])*3600)+(int(t[1])*60)+int(t[2])\n",
    "    print(tt)"
   ]
  },
  {
   "cell_type": "markdown",
   "metadata": {},
   "source": [
    "# '12:30:15'"
   ]
  },
  {
   "cell_type": "code",
   "execution_count": 62,
   "metadata": {},
   "outputs": [
    {
     "name": "stdout",
     "output_type": "stream",
     "text": [
      "45015\n"
     ]
    }
   ],
   "source": [
    "time_sum('12:30:15')"
   ]
  },
  {
   "cell_type": "markdown",
   "metadata": {},
   "source": [
    "# '13:41:07'"
   ]
  },
  {
   "cell_type": "code",
   "execution_count": 63,
   "metadata": {},
   "outputs": [
    {
     "name": "stdout",
     "output_type": "stream",
     "text": [
      "49267\n"
     ]
    }
   ],
   "source": [
    "time_sum('13:41:07')"
   ]
  },
  {
   "cell_type": "markdown",
   "metadata": {},
   "source": [
    "# '12:53:15'"
   ]
  },
  {
   "cell_type": "code",
   "execution_count": 64,
   "metadata": {},
   "outputs": [
    {
     "name": "stdout",
     "output_type": "stream",
     "text": [
      "46395\n"
     ]
    }
   ],
   "source": [
    "time_sum('12:53:15')"
   ]
  },
  {
   "cell_type": "markdown",
   "metadata": {},
   "source": [
    "# '00:59:25'"
   ]
  },
  {
   "cell_type": "code",
   "execution_count": 65,
   "metadata": {},
   "outputs": [
    {
     "name": "stdout",
     "output_type": "stream",
     "text": [
      "3565\n"
     ]
    }
   ],
   "source": [
    "time_sum('00:59:25')"
   ]
  },
  {
   "cell_type": "markdown",
   "metadata": {},
   "source": [
    "# '11:11:11'"
   ]
  },
  {
   "cell_type": "code",
   "execution_count": 66,
   "metadata": {},
   "outputs": [
    {
     "name": "stdout",
     "output_type": "stream",
     "text": [
      "40271\n"
     ]
    }
   ],
   "source": [
    "time_sum('11:11:11')"
   ]
  },
  {
   "cell_type": "markdown",
   "metadata": {},
   "source": [
    "# '16:06:09 '"
   ]
  },
  {
   "cell_type": "code",
   "execution_count": 67,
   "metadata": {},
   "outputs": [
    {
     "name": "stdout",
     "output_type": "stream",
     "text": [
      "57969\n"
     ]
    }
   ],
   "source": [
    "time_sum('16:06:09')"
   ]
  }
 ],
 "metadata": {
  "kernelspec": {
   "display_name": "Python 3",
   "language": "python",
   "name": "python3"
  },
  "language_info": {
   "codemirror_mode": {
    "name": "ipython",
    "version": 3
   },
   "file_extension": ".py",
   "mimetype": "text/x-python",
   "name": "python",
   "nbconvert_exporter": "python",
   "pygments_lexer": "ipython3",
   "version": "3.7.3"
  }
 },
 "nbformat": 4,
 "nbformat_minor": 2
}
