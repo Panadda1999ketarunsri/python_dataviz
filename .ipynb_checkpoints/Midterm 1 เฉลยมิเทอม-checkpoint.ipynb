{
 "cells": [
  {
   "cell_type": "markdown",
   "metadata": {},
   "source": [
    "# 1>\n",
    "สร้าง function ชื่อ smartDict ซึ่งทำหน้าที่:\n",
    "\n",
    "function รับ input เป็น list 2 ตัวที่มีขนาดเท่ากัน โดย list แรก เป็น list ของตัวเลข list ที่สองเป็น list ของ text\n",
    "ถ้าค่าใน list แรก เป็น เลขคี่ ให้ค่าใน dict ที่เป็น output มี key เป็นค่าจาก list ตัวที่ 1 และ value จาก list ตัวที่ 2\n",
    "ถ้าค่าใน list แรก เป็น เลขคู่ ให้ค่าใน dict ที่เป็น output มี key เป็นค่าจาก list ตัวที่ 2 และ value จาก list ตัวที่ 1\n",
    "output ของ function คือ dict ที่สร้างขึ้น\n",
    "เช่น output1 = smartDict([ 1,2,3],['apple','banana','orange']) จะได้ output1 เป็น {1:'apple','banana':2,3:'orange'}"
   ]
  },
  {
   "cell_type": "code",
   "execution_count": 2,
   "metadata": {},
   "outputs": [],
   "source": [
    "def SmartDict(nums,texts):\n",
    "    output = {}\n",
    "    for ind in range(len(nums)):\n",
    "        if (nums[ind] % 2) != 0:\n",
    "           output[nums[ind]]= texts[ind]\n",
    "        else:\n",
    "           output [texts[ind]]= nums[ind]\n",
    "        \n",
    "    return output"
   ]
  },
  {
   "cell_type": "code",
   "execution_count": 3,
   "metadata": {},
   "outputs": [
    {
     "data": {
      "text/plain": [
       "{1: 'apple', 'banana': 2, 3: 'orange'}"
      ]
     },
     "execution_count": 3,
     "metadata": {},
     "output_type": "execute_result"
    }
   ],
   "source": [
    " SmartDict( [1,2,3], [ 'apple','banana','orange'])"
   ]
  },
  {
   "cell_type": "code",
   "execution_count": 4,
   "metadata": {},
   "outputs": [
    {
     "data": {
      "text/plain": [
       "{'apple': 4, 'banana': 2, 3: 'orange'}"
      ]
     },
     "execution_count": 4,
     "metadata": {},
     "output_type": "execute_result"
    }
   ],
   "source": [
    " SmartDict( [4,2,3], [ 'apple','banana','orange'])"
   ]
  },
  {
   "cell_type": "code",
   "execution_count": null,
   "metadata": {},
   "outputs": [],
   "source": []
  }
 ],
 "metadata": {
  "kernelspec": {
   "display_name": "Python 3",
   "language": "python",
   "name": "python3"
  },
  "language_info": {
   "codemirror_mode": {
    "name": "ipython",
    "version": 3
   },
   "file_extension": ".py",
   "mimetype": "text/x-python",
   "name": "python",
   "nbconvert_exporter": "python",
   "pygments_lexer": "ipython3",
   "version": "3.7.3"
  }
 },
 "nbformat": 4,
 "nbformat_minor": 2
}
